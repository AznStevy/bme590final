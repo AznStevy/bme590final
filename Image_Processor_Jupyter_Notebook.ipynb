{
 "cells": [
  {
   "cell_type": "markdown",
   "metadata": {},
   "source": [
    "# Image Processor Walkthrough\n",
    "Authors: Matt Guptil, Howard Li, Stephen Xu\n",
    "\n",
    "For our image processor project, we created a ReactJS GUI, which can be accessed from our `bme590final` repo\n",
    "\n",
    "But this React GUI is not super reliable. Therefore we have created this Jupyter Notebook to demonstrate the functionality of our web server. "
   ]
  },
  {
   "cell_type": "markdown",
   "metadata": {},
   "source": [
    "## Getting Started\n",
    "\n",
    "If you want to run this Jupyter Notebook locally, be sure to clone our entire repo, and start Jupyter Notebook in that cloned folder.\n",
    "\n",
    "Please read and follow along, executing each cell will show you how our webserver works\n",
    "\n",
    "### Starting the webserver\n",
    "\n",
    "Our webserver is running at http://vcm-7308.vm.duke.edu:5000/API-ENDPOINTS\n",
    "\n",
    "But if the server goes down, you can also run `img_processor_web_server.py` locally. Be sure the last line is set to `app.run(host=\"127.0.0.1\")`\n",
    "\n",
    "\n",
    "\n"
   ]
  },
  {
   "cell_type": "markdown",
   "metadata": {},
   "source": [
    "---\n",
    "## Step 1\n",
    "\n",
    "Initialize the python environment by running the below block of code\n",
    "\n"
   ]
  },
  {
   "cell_type": "code",
   "execution_count": null,
   "metadata": {},
   "outputs": [],
   "source": [
    "import imageio\n",
    "import requests\n",
    "from helper import *\n",
    "from img_processor_web_server import *\n",
    "from matplotlib import pyplot as plt\n",
    "\n",
    "domain = \"vcm-7308.vm.duke.edu:5000\"\n",
    "# Alternatively, if you are running the webserver locally, un-comment the below line\n",
    "# domain = \"127.0.0.1:5000\" \n",
    "\n",
    "# The below variables are sample images we are using for demonstration purposes\n",
    "id_list = []  # This is needed for downloading\n",
    "dog_source = \"images_for_testing/gray_dog.jpg\"\n",
    "dog_source_2 = \"images_for_testing/color_dog.jpg\"\n",
    "dog_image = imageio.imread(dog_source)\n",
    "dog_image_2 = imageio.imread(dog_source_2)\n",
    "image_format = determine_format(dog_source)"
   ]
  },
  {
   "cell_type": "markdown",
   "metadata": {},
   "source": [
    "Our webserver allows multiple, unique users. Input your email below to be added as a unique user. The email needs to be in the proper format or else you will get errors later in this Jupyter Notebook environment"
   ]
  },
  {
   "cell_type": "code",
   "execution_count": null,
   "metadata": {},
   "outputs": [],
   "source": [
    "email = \"blah@blah.com\""
   ]
  },
  {
   "attachments": {},
   "cell_type": "markdown",
   "metadata": {},
   "source": [
    "## Step 2 - Uploading Images\n",
    "\n",
    "Our webserver communicates with the client/user's GUI through JSON files. Anything POSTed to the webserver should be a JSON dictionary, and the content that is returned is a dictionary as well. This dictionary contains different attributes:\n",
    " * Image_id\n",
    " * filename\n",
    " * image_data\n",
    " * email\n",
    " * timestamp\n",
    " * width\n",
    " * height\n",
    " * format\n",
    " * description\n",
    " * parent_id \n",
    " * child_ids \n",
    " * process_history\n",
    " * processing_time\n",
    " * process\n",
    " \n",
    "These attributes can be referenced and manipulated with different API endpoints. \n",
    "\n",
    "This is an example of uploading a single image to the webserver. It returns a JSON of the database image and sets it as the \"current image\""
   ]
  },
  {
   "cell_type": "code",
   "execution_count": null,
   "metadata": {},
   "outputs": [],
   "source": [
    "image_obj = {\n",
    "    \"email\": email,\n",
    "    \"image_data\": numpy_to_b64str(\n",
    "        dog_image, format=image_format),\n",
    "    \"filename\": dog_source\n",
    "}\n",
    "resp = requests.post(\n",
    "    \"http://{}/api/process/upload_image\".format(domain),\n",
    "    json=image_obj)\n",
    "content = byte_2_json(resp)\n",
    "id_list.append(content[\"image_id\"])  # used for downloading\n"
   ]
  },
  {
   "cell_type": "markdown",
   "metadata": {},
   "source": [
    "All returned images can be displayed, and the histogram of the image data is also returned."
   ]
  },
  {
   "cell_type": "code",
   "execution_count": null,
   "metadata": {},
   "outputs": [],
   "source": [
    "view_image(b64str_to_numpy(content[\"image_data\"]))\n",
    "view_image(b64str_to_numpy(content[\"histogram\"]))"
   ]
  },
  {
   "cell_type": "markdown",
   "metadata": {},
   "source": [
    "This is an example of uploading a multiple images to the webserver. It returns a JSON of the last database image that was processed and sets it as \"current image\""
   ]
  },
  {
   "cell_type": "code",
   "execution_count": null,
   "metadata": {},
   "outputs": [],
   "source": [
    "image_obj_2 = {\n",
    "    \"email\": email,\n",
    "    \"image_data\": numpy_to_b64str(\n",
    "        dog_image_2, format=image_format),\n",
    "    \"filename\": dog_source_2\n",
    "}\n",
    "resp = requests.post(\n",
    "    \"http://{}/api/process/upload_image\".format(domain),\n",
    "    json=image_obj_2)\n",
    "content = byte_2_json(resp)\n",
    "view_image(b64str_to_numpy(content[\"image_data\"]))\n",
    "view_image(b64str_to_numpy(content[\"histogram\"]))"
   ]
  },
  {
   "cell_type": "markdown",
   "metadata": {},
   "source": [
    "From here on, we will stop displaying the histograms, we think you get the idea.\n",
    "\n",
    "You can also upload a zip file of images. The webserver will process the zip file and return a JSON of the last database image that was processed and sets it as \"current image\""
   ]
  },
  {
   "cell_type": "code",
   "execution_count": null,
   "metadata": {},
   "outputs": [],
   "source": [
    "zip_file = \"tests/images_for_testing/test_folder.zip\"\n",
    "image_obj_3 = {\n",
    "    \"email\": email,\n",
    "    \"image_data\": zip_to_b64(zip_file),\n",
    "    \"filename\": zip_file\n",
    "}\n",
    "resp = requests.post(\n",
    "    \"http://{}/api/process/upload_image\".format(domain),\n",
    "    json=image_obj_3)\n",
    "content = byte_2_json(resp)\n",
    "view_image(b64str_to_numpy(content[\"image_data\"]))"
   ]
  },
  {
   "cell_type": "markdown",
   "metadata": {},
   "source": [
    "The user can obtain a history of all the images they have uploaded using the `get_original_images` endpoint"
   ]
  },
  {
   "cell_type": "code",
   "execution_count": null,
   "metadata": {},
   "outputs": [],
   "source": [
    "resp = requests.get(\n",
    "    \"http://{}/api/user/get_original_uploads/{}\".format(domain, email))\n",
    "# But this is too big to display in a juypter notebook"
   ]
  },
  {
   "cell_type": "markdown",
   "metadata": {},
   "source": [
    "On the webserver, the user's current image, and most recent API endpoint call is stored. The user can also \"scroll\" through parent and child images, thus keeping a record of their action history"
   ]
  },
  {
   "cell_type": "code",
   "execution_count": null,
   "metadata": {},
   "outputs": [],
   "source": [
    "resp = requests.post(\n",
    "    \"http://{}/api/process/upload_image\".format(domain),\n",
    "    json=image_obj)\n",
    "content = byte_2_json(resp)\n",
    "print(\"Current Image ID (image 1 ID): \",\n",
    "      content[\"image_id\"])\n",
    "# -------------\n",
    "resp = requests.post(\n",
    "    \"http://{}/api/process/upload_image\".format(domain),\n",
    "    json=image_obj_2)\n",
    "content = byte_2_json(resp)\n",
    "print(\"Current Image ID (image 2 ID): \",\n",
    "      content[\"image_id\"])"
   ]
  },
  {
   "cell_type": "markdown",
   "metadata": {},
   "source": [
    "## Step 3: Processing Images\n",
    "\n",
    "Let's explore how image processing works. Run the below block of code to intialize and upload the first image. "
   ]
  },
  {
   "cell_type": "code",
   "execution_count": null,
   "metadata": {},
   "outputs": [],
   "source": [
    "resp = requests.post(\n",
    "    \"http://{}/api/process/upload_image\".format(domain),\n",
    "    json=image_obj_2)\n",
    "content = byte_2_json(resp)\n",
    "print('IMAGE WE WANT TO PROCESS')\n",
    "view_image(b64str_to_numpy(content[\"image_data\"]))"
   ]
  },
  {
   "cell_type": "markdown",
   "metadata": {},
   "source": [
    "There are several API endpoints that processes the image. These include: sharpen, blur, log compression, contrast stretching, histogram equalization, and reverse video. When these endpoints are called, the server performs the actions on the current image and gives it back to the user *without* storing the processed image on the database yet. Run the below block of code to see the image being processed. "
   ]
  },
  {
   "cell_type": "code",
   "execution_count": null,
   "metadata": {},
   "outputs": [],
   "source": [
    "# Sharpening\n",
    "resp = requests.post(\n",
    "    \"http://{}/api/process/sharpen\".format(domain),\n",
    "    json=image_obj_2)\n",
    "content = byte_2_json(resp)\n",
    "print('Sharpen')\n",
    "view_image(b64str_to_numpy(content[\"image_data\"]))\n",
    "\n",
    "# blurring\n",
    "resp = requests.post(\n",
    "    \"http://{}/api/process/blur\".format(domain),\n",
    "    json=image_obj_2)\n",
    "content = byte_2_json(resp)\n",
    "print('Blur')\n",
    "view_image(b64str_to_numpy(content[\"image_data\"]))\n",
    "\n",
    "# log compression\n",
    "resp = requests.post(\n",
    "    \"http://{}/api/process/log_compression\".format(domain),\n",
    "    json=image_obj_2)\n",
    "content = byte_2_json(resp)\n",
    "print('Log Compression')\n",
    "view_image(b64str_to_numpy(content[\"image_data\"]))\n",
    "\n",
    "# contrast stretching\n",
    "resp = requests.post(\n",
    "    \"http://{}/api/process/contrast_stretch\".format(domain),\n",
    "    json=image_obj_2)\n",
    "content = byte_2_json(resp)\n",
    "print('Contrast Stretch')\n",
    "view_image(b64str_to_numpy(content[\"image_data\"]))\n",
    "\n",
    "# histogram equalization\n",
    "resp = requests.post(\n",
    "    \"http://{}/api/process/hist_eq\".format(domain),\n",
    "    json=image_obj_2)\n",
    "content = byte_2_json(resp)\n",
    "print('Histogram Equalization')\n",
    "view_image(b64str_to_numpy(content[\"image_data\"]))\n"
   ]
  },
  {
   "cell_type": "markdown",
   "metadata": {},
   "source": [
    "Note that reverse video only works for grayscale images. Here is a grayscale image to test"
   ]
  },
  {
   "cell_type": "code",
   "execution_count": null,
   "metadata": {},
   "outputs": [],
   "source": [
    "image_obj = {\n",
    "    \"email\": email,\n",
    "    \"image_data\": numpy_to_b64str(\n",
    "        dog_image, format=image_format),\n",
    "    \"filename\": dog_source\n",
    "}\n",
    "resp = requests.post(\n",
    "    \"http://{}/api/process/upload_image\".format(domain),\n",
    "    json=image_obj)\n",
    "content = byte_2_json(resp)\n",
    "print('Original Gray Image:')\n",
    "view_image(b64str_to_numpy(content[\"image_data\"]))\n",
    "resp = requests.post(\n",
    "    \"http://{}/api/process/reverse_video\".format(domain),\n",
    "    json=image_obj)\n",
    "content = byte_2_json(resp)\n",
    "print('Reverse Video')\n",
    "view_image(b64str_to_numpy(content[\"image_data\"]))"
   ]
  },
  {
   "cell_type": "markdown",
   "metadata": {},
   "source": [
    "## Step 4: Confirming\n",
    "Note that none of the processing actions done on the initial image was permanent. In order to \"commit\" a change or processing function, you need to confirm with the `confirm` endpoint. This confirms the most recent action performed by the user"
   ]
  },
  {
   "cell_type": "code",
   "execution_count": null,
   "metadata": {},
   "outputs": [],
   "source": [
    "confirmed = requests.post(\n",
    "    \"http://{}/api/process/confirm\".format(domain),\n",
    "    json={\"email\": email})\n",
    "confirmed = byte_2_json(resp)"
   ]
  },
  {
   "cell_type": "markdown",
   "metadata": {},
   "source": [
    "## Step 5: Additional Features\n",
    "\n",
    "Our webserver and database keeps track of every process that is used. Run the block of code below to see:"
   ]
  },
  {
   "cell_type": "code",
   "execution_count": null,
   "metadata": {},
   "outputs": [],
   "source": [
    "resp = requests.get(\n",
    "    \"http://{}/api/user/get_user/{}\".format(domain, email))\n",
    "content = byte_2_json(resp)\n",
    "print(content[\"process_count\"])"
   ]
  },
  {
   "cell_type": "markdown",
   "metadata": {},
   "source": [
    "Every image also has a significant amount of metadata associated with it. These include: parent-child relationships with other\n",
    "images, the upload timestamp, process time, image size, etc. They can be displayed below:"
   ]
  },
  {
   "cell_type": "code",
   "execution_count": null,
   "metadata": {},
   "outputs": [],
   "source": [
    "confirmed_2 = confirmed\n",
    "del confirmed_2[\"image_data\"] # Deleting the B64 string for readability\n",
    "del confirmed_2[\"histogram\"] # Deleting the B64 string for readability\n",
    "print(confirmed_2)\n"
   ]
  },
  {
   "cell_type": "markdown",
   "metadata": {},
   "source": [
    "## Step 6: Downloading \n",
    "\n",
    " Downloading comes in several different forms: single or zipped in a file with a file type or your choice. \n",
    " \n",
    "First let's explore single image downloads. In this example, the image is converted back into a numpy array and saved as `test.jpg` in the current folder of this Jupyter Notebook. The most recent reverse video grayscale image is what is saved."
   ]
  },
  {
   "cell_type": "code",
   "execution_count": null,
   "metadata": {},
   "outputs": [],
   "source": [
    "resp = requests.post(\n",
    "    \"http://{}/api/process/reverse_video\".format(domain),\n",
    "    json=image_obj)\n",
    "content = byte_2_json(resp)\n",
    "save_this = b64str_to_numpy(content[\"image_data\"])\n",
    "imageio.imwrite('./test.jpg', save_this)\n"
   ]
  },
  {
   "cell_type": "markdown",
   "metadata": {},
   "source": [
    "# Conclusion\n",
    "\n",
    "There are many other functions that we have not demonstrated here, but this is the basic functionality of our webserver. All of these methods are wrapped up in our front-end GUI."
   ]
  }
 ],
 "metadata": {
  "kernelspec": {
   "display_name": "Python 3",
   "language": "python",
   "name": "python3"
  },
  "language_info": {
   "codemirror_mode": {
    "name": "ipython",
    "version": 3
   },
   "file_extension": ".py",
   "mimetype": "text/x-python",
   "name": "python",
   "nbconvert_exporter": "python",
   "pygments_lexer": "ipython3",
   "version": "3.5.6"
  }
 },
 "nbformat": 4,
 "nbformat_minor": 2
}
